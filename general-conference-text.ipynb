{
 "cells": [
  {
   "cell_type": "code",
   "execution_count": 1,
   "metadata": {
    "collapsed": true
   },
   "outputs": [],
   "source": [
    "# Import Libraries\n",
    "import requests\n",
    "from bs4 import BeautifulSoup\n",
    "import  pandas as pd\n",
    "import seaborn as sns\n",
    "import matplotlib.pyplot as plt\n",
    "import numpy as np\n",
    "import string\n",
    "import time\n",
    "import re\n",
    "trim = re.compile(r'[^\\d.,]+')"
   ]
  },
  {
   "cell_type": "code",
   "execution_count": 2,
   "metadata": {
    "collapsed": true
   },
   "outputs": [],
   "source": [
    "headers = {'user-agent' : 'Chrome (Macintosh; Intel Mac OS X 10_12_2); Erik Webb Provo, Utah erikgregorywebb@gmail.com'}"
   ]
  },
  {
   "cell_type": "markdown",
   "metadata": {},
   "source": [
    "### All General Conference Links"
   ]
  },
  {
   "cell_type": "code",
   "execution_count": 3,
   "metadata": {},
   "outputs": [
    {
     "data": {
      "text/plain": [
       "['https://www.lds.org/general-conference/2017/04?lang=eng',\n",
       " 'https://www.lds.org/general-conference/2017/10?lang=eng',\n",
       " 'https://www.lds.org/general-conference/2016/04?lang=eng',\n",
       " 'https://www.lds.org/general-conference/2016/10?lang=eng',\n",
       " 'https://www.lds.org/general-conference/2015/04?lang=eng']"
      ]
     },
     "execution_count": 3,
     "metadata": {},
     "output_type": "execute_result"
    }
   ],
   "source": [
    "# Scrape the General Conference archive page for links to all sessions\n",
    "scrape_url = \"https://www.lds.org/general-conference/conferences?lang=eng\"\n",
    "r = requests.get(scrape_url)\n",
    "soup = BeautifulSoup(r.content, \"lxml\")\n",
    "\n",
    "# Create a list of links, keeping only those on the page that connect to specific sessions\n",
    "conf_links = list()\n",
    "for link in soup.find_all('a'):\n",
    "    conf_links.append(link.get('href'))\n",
    "conf_links = conf_links[120:214]\n",
    "\n",
    "# Add the neccesary text to make it a proper URL\n",
    "for i in range(0,len(conf_links)):\n",
    "    conf_links[i] = 'https://www.lds.org' + conf_links[i]\n",
    "    \n",
    "conf_links[0:5]"
   ]
  },
  {
   "cell_type": "markdown",
   "metadata": {},
   "source": [
    "### All Talk Links"
   ]
  },
  {
   "cell_type": "code",
   "execution_count": 4,
   "metadata": {
    "collapsed": true
   },
   "outputs": [],
   "source": [
    "all_talk_links = list()\n",
    "\n",
    "for i in range(0, len(conf_links)):\n",
    "    time.sleep(1)\n",
    "    scrape_url = conf_links[i]\n",
    "    r = requests.get(scrape_url)\n",
    "    soup = BeautifulSoup(r.content, \"lxml\")\n",
    "    \n",
    "    links = list()\n",
    "    for link in soup.find_all('a'):\n",
    "        links.append(link.get('href'))\n",
    "        \n",
    "    # Clean the list\n",
    "    links_df = pd.DataFrame({'col':links})\n",
    "    links_df = links_df.dropna(how='any')\n",
    "    value = conf_links[i][20:46] + \"/\"\n",
    "    good_links = links_df['col'].str.contains(value)   \n",
    "    links_df = links_df[good_links]\n",
    "    \n",
    "    talk_links_list = list(links_df['col'])\n",
    "    for i in range(0,len(talk_links_list)):\n",
    "        talk_links_list[i] = 'https://www.lds.org' + talk_links_list[i]\n",
    "    all_talk_links.extend(talk_links_list)"
   ]
  },
  {
   "cell_type": "code",
   "execution_count": 5,
   "metadata": {},
   "outputs": [
    {
     "data": {
      "text/plain": [
       "3699"
      ]
     },
     "execution_count": 5,
     "metadata": {},
     "output_type": "execute_result"
    }
   ],
   "source": [
    "len(all_talk_links)"
   ]
  },
  {
   "cell_type": "code",
   "execution_count": 6,
   "metadata": {},
   "outputs": [
    {
     "data": {
      "text/plain": [
       "'https://www.lds.org/general-conference/2017/04/trust-in-the-lord-and-lean-not?lang=eng'"
      ]
     },
     "execution_count": 6,
     "metadata": {},
     "output_type": "execute_result"
    }
   ],
   "source": [
    "all_talk_links[0]"
   ]
  },
  {
   "cell_type": "markdown",
   "metadata": {},
   "source": [
    "### Extract Individual Talk Data"
   ]
  },
  {
   "cell_type": "code",
   "execution_count": 7,
   "metadata": {
    "collapsed": true
   },
   "outputs": [],
   "source": [
    "# Define function\n",
    "def scrape_element(css_selector):\n",
    "    return (page.select_one(css_selector)).get_text()"
   ]
  },
  {
   "cell_type": "code",
   "execution_count": 11,
   "metadata": {},
   "outputs": [
    {
     "name": "stdout",
     "output_type": "stream",
     "text": [
      "Error:  2\n"
     ]
    }
   ],
   "source": [
    "gf_data = list()\n",
    "for i in range(0, 5):\n",
    "    time.sleep(1)\n",
    "    scrape_url = all_talk_links[i]\n",
    "    r = requests.get(scrape_url)\n",
    "    page = BeautifulSoup(r.content, \"lxml\")\n",
    "    try:\n",
    "        title = scrape_element('.title div')\n",
    "        speaker = scrape_element('.article-author__name')\n",
    "        calling = scrape_element('.article-author__title')\n",
    "        text = scrape_element('.body-block')\n",
    "        talk = list([title, speaker, calling, text])\n",
    "        gf_data.append(talk)\n",
    "    except Exception:\n",
    "        print(\"Error: \", i)"
   ]
  },
  {
   "cell_type": "code",
   "execution_count": 12,
   "metadata": {},
   "outputs": [
    {
     "data": {
      "text/html": [
       "<div>\n",
       "<style>\n",
       "    .dataframe thead tr:only-child th {\n",
       "        text-align: right;\n",
       "    }\n",
       "\n",
       "    .dataframe thead th {\n",
       "        text-align: left;\n",
       "    }\n",
       "\n",
       "    .dataframe tbody tr th {\n",
       "        vertical-align: top;\n",
       "    }\n",
       "</style>\n",
       "<table border=\"1\" class=\"dataframe\">\n",
       "  <thead>\n",
       "    <tr style=\"text-align: right;\">\n",
       "      <th></th>\n",
       "      <th>0</th>\n",
       "      <th>1</th>\n",
       "      <th>2</th>\n",
       "      <th>3</th>\n",
       "    </tr>\n",
       "  </thead>\n",
       "  <tbody>\n",
       "    <tr>\n",
       "      <th>0</th>\n",
       "      <td>Trust in the Lord and Lean Not</td>\n",
       "      <td>By Bonnie H. Cordon</td>\n",
       "      <td>Second Counselor in the Primary General Presid...</td>\n",
       "      <td>While I was traveling in Asia, a dear sister a...</td>\n",
       "    </tr>\n",
       "    <tr>\n",
       "      <th>1</th>\n",
       "      <td>The Beauty of Holiness</td>\n",
       "      <td>By Carol F. McConkie</td>\n",
       "      <td>First Counselor in the Young Women General Pre...</td>\n",
       "      <td>As I have prepared for this meeting, my heart ...</td>\n",
       "    </tr>\n",
       "    <tr>\n",
       "      <th>2</th>\n",
       "      <td>“My Peace I Leave with You”</td>\n",
       "      <td>By President Henry B. Eyring</td>\n",
       "      <td>First Counselor in the First Presidency</td>\n",
       "      <td>My dear sisters, we have been blessed by the S...</td>\n",
       "    </tr>\n",
       "    <tr>\n",
       "      <th>3</th>\n",
       "      <td>Gathering the Family of God</td>\n",
       "      <td>By President Henry B. Eyring</td>\n",
       "      <td>First Counselor in the First Presidency</td>\n",
       "      <td>My dear brothers and sisters, I rejoice at the...</td>\n",
       "    </tr>\n",
       "  </tbody>\n",
       "</table>\n",
       "</div>"
      ],
      "text/plain": [
       "                                0                             1  \\\n",
       "0  Trust in the Lord and Lean Not           By Bonnie H. Cordon   \n",
       "1          The Beauty of Holiness          By Carol F. McConkie   \n",
       "2     “My Peace I Leave with You”  By President Henry B. Eyring   \n",
       "3     Gathering the Family of God  By President Henry B. Eyring   \n",
       "\n",
       "                                                   2  \\\n",
       "0  Second Counselor in the Primary General Presid...   \n",
       "1  First Counselor in the Young Women General Pre...   \n",
       "2            First Counselor in the First Presidency   \n",
       "3            First Counselor in the First Presidency   \n",
       "\n",
       "                                                   3  \n",
       "0  While I was traveling in Asia, a dear sister a...  \n",
       "1  As I have prepared for this meeting, my heart ...  \n",
       "2  My dear sisters, we have been blessed by the S...  \n",
       "3  My dear brothers and sisters, I rejoice at the...  "
      ]
     },
     "execution_count": 12,
     "metadata": {},
     "output_type": "execute_result"
    }
   ],
   "source": [
    "gf_df = pd.DataFrame(gf_data)\n",
    "gf_df.head()"
   ]
  },
  {
   "cell_type": "markdown",
   "metadata": {},
   "source": [
    "### Write Data to CSV"
   ]
  },
  {
   "cell_type": "code",
   "execution_count": 10,
   "metadata": {
    "collapsed": true
   },
   "outputs": [],
   "source": [
    "writer_orig = pd.ExcelWriter('GF_DATA.xlsx', engine='xlsxwriter')\n",
    "gf_df.to_excel(writer_orig, index=False, sheet_name='GF_DATA')\n",
    "writer_orig.save()"
   ]
  },
  {
   "cell_type": "markdown",
   "metadata": {},
   "source": [
    "### NLP/Text Mining"
   ]
  },
  {
   "cell_type": "markdown",
   "metadata": {},
   "source": [
    "See next script."
   ]
  }
 ],
 "metadata": {
  "kernelspec": {
   "display_name": "Python 3",
   "language": "python",
   "name": "python3"
  },
  "language_info": {
   "codemirror_mode": {
    "name": "ipython",
    "version": 3
   },
   "file_extension": ".py",
   "mimetype": "text/x-python",
   "name": "python",
   "nbconvert_exporter": "python",
   "pygments_lexer": "ipython3",
   "version": "3.6.3"
  }
 },
 "nbformat": 4,
 "nbformat_minor": 2
}
